{
 "cells": [
  {
   "cell_type": "markdown",
   "metadata": {
    "collapsed": true,
    "pycharm": {
     "name": "#%% md\n"
    }
   },
   "source": [
    "*DICIONÁRIOS EM PYTHON"
   ]
  },
  {
   "cell_type": "code",
   "source": [
    "# FORMA MAIS COMUM DE DECLARAÇÃO DE DICIONÁRIOS\n",
    "paises = {'br': \"Brasil\",'US': \"Estados unidos\", 'JP': \"Japão\", 'UK': \"Reino Unido\"}\n",
    "print(paises)\n",
    "print(type(paises))"
   ],
   "metadata": {
    "collapsed": false,
    "pycharm": {
     "name": "#%%\n"
    }
   },
   "execution_count": 35,
   "outputs": [
    {
     "name": "stdout",
     "output_type": "stream",
     "text": [
      "{'br': 'Brasil', 'US': 'Estados unidos', 'JP': 'Japão', 'UK': 'Reino Unido'}\n",
      "<class 'dict'>\n"
     ]
    }
   ]
  },
  {
   "cell_type": "markdown",
   "source": [
    "os dicionários possuem estrutra 'chave':'valor'\n",
    "não há limitações sobre as categorias de dados empregados\n",
    "podemos misturar tipos de dados"
   ],
   "metadata": {
    "collapsed": false,
    "pycharm": {
     "name": "#%% md\n"
    }
   }
  },
  {
   "cell_type": "code",
   "execution_count": 36,
   "outputs": [
    {
     "name": "stdout",
     "output_type": "stream",
     "text": [
      "{'br': 'brasil', 'eua': 'estados unidos', 'py': 'paraguai'}\n",
      "<class 'dict'>\n"
     ]
    }
   ],
   "source": [
    "# forma 2 (menos comum)\n",
    "paises2 = dict(br='brasil', eua='estados unidos', py='paraguai')\n",
    "print(paises2)\n",
    "print(type(paises2))"
   ],
   "metadata": {
    "collapsed": false,
    "pycharm": {
     "name": "#%%\n"
    }
   }
  },
  {
   "cell_type": "markdown",
   "source": [
    "**Acessando Elementos**"
   ],
   "metadata": {
    "collapsed": false,
    "pycharm": {
     "name": "#%% md\n"
    }
   }
  },
  {
   "cell_type": "code",
   "execution_count": 37,
   "outputs": [
    {
     "name": "stdout",
     "output_type": "stream",
     "text": [
      "Brasil\n",
      "paraguai\n"
     ]
    }
   ],
   "source": [
    "# FORMA 1: (acessando via chave, igual as listas/tuplas)\n",
    "\n",
    "print(paises['br'])\n",
    "print(paises2['py'])"
   ],
   "metadata": {
    "collapsed": false,
    "pycharm": {
     "name": "#%%\n"
    }
   }
  },
  {
   "cell_type": "markdown",
   "source": [
    "**Acessando elementos via get**\n",
    "é também a forma recomendada de aplicação de listas"
   ],
   "metadata": {
    "collapsed": false,
    "pycharm": {
     "name": "#%% md\n"
    }
   }
  },
  {
   "cell_type": "code",
   "execution_count": 38,
   "outputs": [
    {
     "name": "stdout",
     "output_type": "stream",
     "text": [
      "Brasil\n",
      "paraguai\n"
     ]
    }
   ],
   "source": [
    "print(paises.get('br'))\n",
    "print(paises2.get('py'))"
   ],
   "metadata": {
    "collapsed": false,
    "pycharm": {
     "name": "#%%\n"
    }
   }
  },
  {
   "cell_type": "markdown",
   "source": [
    "**Comportamento do .get() com os dicionários**\n",
    "quando chamamos um elemento que não está definido dentro do dicionário, a função retorna 'tipo none', se encontrar, este vai retornar o tipo da variável dentro do dicionário"
   ],
   "metadata": {
    "collapsed": false,
    "pycharm": {
     "name": "#%% md\n"
    }
   }
  },
  {
   "cell_type": "markdown",
   "source": [
    "**Tipo None**\n",
    "O tipo de dado none, em python, representa o tipo sem tipo, ou também, tipo vazio, mas 'tipo sem tipo' é mais apropriado para se refererir\n",
    "\n",
    "o tipo none é sempre especificado com a primeira letra maiuscula\n",
    "ex: tipo = None\n",
    "\n",
    "podemos utilizar none quando criamos uma variável, mas a mesma ainda não tem um valor atribuido\n",
    "\n",
    "na lógica, o tipo None sempre vai ser um False"
   ],
   "metadata": {
    "collapsed": false,
    "pycharm": {
     "name": "#%% md\n"
    }
   }
  },
  {
   "cell_type": "code",
   "execution_count": 39,
   "outputs": [
    {
     "name": "stdout",
     "output_type": "stream",
     "text": [
      "<class 'NoneType'>\n",
      "<class 'list'>\n"
     ]
    }
   ],
   "source": [
    "# exemplo\n",
    "numeros = None\n",
    "print(type(numeros))\n",
    "numeros = [1.44, 2.65, 3.75]\n",
    "print(type(numeros))"
   ],
   "metadata": {
    "collapsed": false,
    "pycharm": {
     "name": "#%%\n"
    }
   }
  },
  {
   "cell_type": "markdown",
   "source": [
    "**exemplo de aplicação prática**"
   ],
   "metadata": {
    "collapsed": false,
    "pycharm": {
     "name": "#%% md\n"
    }
   }
  },
  {
   "cell_type": "code",
   "execution_count": 40,
   "outputs": [
    {
     "name": "stdout",
     "output_type": "stream",
     "text": [
      "não encontrei a russia\n",
      "encontrei o BR\n",
      "não encontrado\n"
     ]
    }
   ],
   "source": [
    "russia = paises.get('ru')\n",
    "if russia:\n",
    "    print('encontrei a russia')\n",
    "else:\n",
    "    print('não encontrei a russia')\n",
    "brasil = paises.get('br')\n",
    "if brasil:\n",
    "    print('encontrei o BR')\n",
    "else:\n",
    "    print('não encontrei o br')\n",
    "\n",
    "\n",
    "# ou também, podemos incorporar a condicional para dentro do get e temos:\n",
    "\n",
    "pais = paises.get('ru','não encontrado')\n",
    "print(pais)\n",
    "# não precisa mais do bloco if ; else"
   ],
   "metadata": {
    "collapsed": false,
    "pycharm": {
     "name": "#%%\n"
    }
   }
  },
  {
   "cell_type": "markdown",
   "source": [
    "**Estrutura do .get**\n",
    "dicionário.get('elemento do dicionário','resposta ao não encontrar o elemento no dicionário'\n",
    "\n",
    "desta forma podemos verificar a existência de uma chave dentro de um dicionário"
   ],
   "metadata": {
    "collapsed": false,
    "pycharm": {
     "name": "#%% md\n"
    }
   }
  },
  {
   "cell_type": "code",
   "execution_count": 41,
   "outputs": [
    {
     "name": "stdout",
     "output_type": "stream",
     "text": [
      "True\n",
      "False\n",
      "False\n"
     ]
    }
   ],
   "source": [
    "print('br' in paises)\n",
    "print('ru' in paises)\n",
    "print('estados unidos' in paises)\n",
    "\n",
    "if 'ru' in paises:\n",
    "    russia = paises['ru']"
   ],
   "metadata": {
    "collapsed": false,
    "pycharm": {
     "name": "#%%\n"
    }
   }
  },
  {
   "cell_type": "markdown",
   "source": [
    "# parado aos 33:26 no vídeo de dicionários"
   ],
   "metadata": {
    "collapsed": false,
    "pycharm": {
     "name": "#%% md\n"
    }
   }
  }
 ],
 "metadata": {
  "kernelspec": {
   "display_name": "Python 3",
   "language": "python",
   "name": "python3"
  },
  "language_info": {
   "codemirror_mode": {
    "name": "ipython",
    "version": 2
   },
   "file_extension": ".py",
   "mimetype": "text/x-python",
   "name": "python",
   "nbconvert_exporter": "python",
   "pygments_lexer": "ipython2",
   "version": "2.7.6"
  }
 },
 "nbformat": 4,
 "nbformat_minor": 0
}